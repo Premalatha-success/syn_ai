{
 "cells": [
  {
   "cell_type": "code",
   "execution_count": 1,
   "id": "2d96e168",
   "metadata": {},
   "outputs": [
    {
     "name": "stdout",
     "output_type": "stream",
     "text": [
      "hello World\n"
     ]
    }
   ],
   "source": [
    "print(\"hello World\")"
   ]
  },
  {
   "cell_type": "code",
   "execution_count": 2,
   "id": "0e274a55",
   "metadata": {},
   "outputs": [
    {
     "name": "stdout",
     "output_type": "stream",
     "text": [
      "Latha\n"
     ]
    }
   ],
   "source": [
    "print(\"Latha\")"
   ]
  },
  {
   "cell_type": "code",
   "execution_count": null,
   "id": "04b7fa23",
   "metadata": {},
   "outputs": [],
   "source": [
    "Print('hello world')"
   ]
  },
  {
   "cell_type": "code",
   "execution_count": 3,
   "id": "336d5693",
   "metadata": {},
   "outputs": [
    {
     "ename": "SyntaxError",
     "evalue": "invalid syntax. Perhaps you forgot a comma? (2497053111.py, line 1)",
     "output_type": "error",
     "traceback": [
      "\u001b[1;36m  Cell \u001b[1;32mIn[3], line 1\u001b[1;36m\u001b[0m\n\u001b[1;33m    print(hello world)\u001b[0m\n\u001b[1;37m          ^\u001b[0m\n\u001b[1;31mSyntaxError\u001b[0m\u001b[1;31m:\u001b[0m invalid syntax. Perhaps you forgot a comma?\n"
     ]
    }
   ],
   "source": [
    "print(hello world)"
   ]
  },
  {
   "cell_type": "code",
   "execution_count": 5,
   "id": "6c0f95ee",
   "metadata": {},
   "outputs": [
    {
     "name": "stdout",
     "output_type": "stream",
     "text": [
      "10\n"
     ]
    }
   ],
   "source": [
    "print(10)"
   ]
  },
  {
   "cell_type": "code",
   "execution_count": 6,
   "id": "f236997c",
   "metadata": {},
   "outputs": [
    {
     "ename": "NameError",
     "evalue": "name 'Print' is not defined",
     "output_type": "error",
     "traceback": [
      "\u001b[1;31m---------------------------------------------------------------------------\u001b[0m",
      "\u001b[1;31mNameError\u001b[0m                                 Traceback (most recent call last)",
      "Cell \u001b[1;32mIn[6], line 1\u001b[0m\n\u001b[1;32m----> 1\u001b[0m \u001b[43mPrint\u001b[49m(data)\n",
      "\u001b[1;31mNameError\u001b[0m: name 'Print' is not defined"
     ]
    }
   ],
   "source": [
    "Print(data)"
   ]
  },
  {
   "cell_type": "markdown",
   "id": "5bedd4b1",
   "metadata": {},
   "source": [
    "##### Python is case-sensitive"
   ]
  },
  {
   "cell_type": "code",
   "execution_count": 8,
   "id": "387729b7",
   "metadata": {},
   "outputs": [
    {
     "name": "stdout",
     "output_type": "stream",
     "text": [
      "1\n"
     ]
    }
   ],
   "source": [
    "print(1)"
   ]
  },
  {
   "cell_type": "markdown",
   "id": "9cb2a80c",
   "metadata": {},
   "source": [
    "#### string should always inside quotation"
   ]
  },
  {
   "cell_type": "code",
   "execution_count": 9,
   "id": "ed9f4f80",
   "metadata": {},
   "outputs": [
    {
     "name": "stdout",
     "output_type": "stream",
     "text": [
      "data\n",
      "data\n"
     ]
    }
   ],
   "source": [
    "print('data')\n",
    "print(\"data\")"
   ]
  },
  {
   "cell_type": "markdown",
   "id": "dfb13620",
   "metadata": {},
   "source": [
    "##### single or double both would be fine"
   ]
  },
  {
   "cell_type": "markdown",
   "id": "c98f8d03",
   "metadata": {},
   "source": [
    "### Variables"
   ]
  },
  {
   "cell_type": "code",
   "execution_count": 10,
   "id": "123cdc8a",
   "metadata": {},
   "outputs": [
    {
     "ename": "SyntaxError",
     "evalue": "invalid syntax (3398292555.py, line 2)",
     "output_type": "error",
     "traceback": [
      "\u001b[1;36m  Cell \u001b[1;32mIn[10], line 2\u001b[1;36m\u001b[0m\n\u001b[1;33m    first name=\"Prema\"\u001b[0m\n\u001b[1;37m          ^\u001b[0m\n\u001b[1;31mSyntaxError\u001b[0m\u001b[1;31m:\u001b[0m invalid syntax\n"
     ]
    }
   ],
   "source": [
    "### 1.Variable name should not have space\n",
    "first name=\"Prema\""
   ]
  },
  {
   "cell_type": "code",
   "execution_count": 11,
   "id": "59cb3924",
   "metadata": {},
   "outputs": [
    {
     "data": {
      "text/plain": [
       "'Prema'"
      ]
     },
     "execution_count": 11,
     "metadata": {},
     "output_type": "execute_result"
    }
   ],
   "source": [
    "### 2.Variable name should start with A-Z,a-z or _\n",
    "Firstname=\"Prema\"\n",
    "Firstname"
   ]
  },
  {
   "cell_type": "code",
   "execution_count": 12,
   "id": "d3047ac6",
   "metadata": {},
   "outputs": [
    {
     "data": {
      "text/plain": [
       "'data'"
      ]
     },
     "execution_count": 12,
     "metadata": {},
     "output_type": "execute_result"
    }
   ],
   "source": [
    "name=\"data\"\n",
    "name"
   ]
  },
  {
   "cell_type": "code",
   "execution_count": 13,
   "id": "c3b66ec3",
   "metadata": {},
   "outputs": [
    {
     "data": {
      "text/plain": [
       "'data'"
      ]
     },
     "execution_count": 13,
     "metadata": {},
     "output_type": "execute_result"
    }
   ],
   "source": [
    "_name=\"data\"\n",
    "_name"
   ]
  },
  {
   "cell_type": "code",
   "execution_count": 14,
   "id": "d4e9c6c7",
   "metadata": {},
   "outputs": [
    {
     "ename": "SyntaxError",
     "evalue": "cannot assign to expression here. Maybe you meant '==' instead of '='? (1564373013.py, line 1)",
     "output_type": "error",
     "traceback": [
      "\u001b[1;36m  Cell \u001b[1;32mIn[14], line 1\u001b[1;36m\u001b[0m\n\u001b[1;33m    +name=\"Latha\"\u001b[0m\n\u001b[1;37m    ^\u001b[0m\n\u001b[1;31mSyntaxError\u001b[0m\u001b[1;31m:\u001b[0m cannot assign to expression here. Maybe you meant '==' instead of '='?\n"
     ]
    }
   ],
   "source": [
    "+name=\"Latha\"\n",
    "+name"
   ]
  },
  {
   "cell_type": "code",
   "execution_count": 15,
   "id": "dfbd8c9d",
   "metadata": {},
   "outputs": [
    {
     "ename": "SyntaxError",
     "evalue": "invalid decimal literal (3228797341.py, line 2)",
     "output_type": "error",
     "traceback": [
      "\u001b[1;36m  Cell \u001b[1;32mIn[15], line 2\u001b[1;36m\u001b[0m\n\u001b[1;33m    1name=\"latha\"\u001b[0m\n\u001b[1;37m    ^\u001b[0m\n\u001b[1;31mSyntaxError\u001b[0m\u001b[1;31m:\u001b[0m invalid decimal literal\n"
     ]
    }
   ],
   "source": [
    "### 3. Variable name should not start with number\n",
    "1name=\"latha\"\n",
    "1name"
   ]
  },
  {
   "cell_type": "code",
   "execution_count": 16,
   "id": "0dba631c",
   "metadata": {},
   "outputs": [
    {
     "data": {
      "text/plain": [
       "'data'"
      ]
     },
     "execution_count": 16,
     "metadata": {},
     "output_type": "execute_result"
    }
   ],
   "source": [
    "name1=\"data\"\n",
    "name1"
   ]
  },
  {
   "cell_type": "code",
   "execution_count": 17,
   "id": "b430cde1",
   "metadata": {},
   "outputs": [
    {
     "data": {
      "text/plain": [
       "'data'"
      ]
     },
     "execution_count": 17,
     "metadata": {},
     "output_type": "execute_result"
    }
   ],
   "source": [
    "n2ame=\"data\"\n",
    "n2ame"
   ]
  },
  {
   "cell_type": "code",
   "execution_count": 18,
   "id": "cac29e32",
   "metadata": {},
   "outputs": [
    {
     "ename": "SyntaxError",
     "evalue": "cannot assign to expression here. Maybe you meant '==' instead of '='? (2754303661.py, line 2)",
     "output_type": "error",
     "traceback": [
      "\u001b[1;36m  Cell \u001b[1;32mIn[18], line 2\u001b[1;36m\u001b[0m\n\u001b[1;33m    first+name=\"artificial\"\u001b[0m\n\u001b[1;37m    ^\u001b[0m\n\u001b[1;31mSyntaxError\u001b[0m\u001b[1;31m:\u001b[0m cannot assign to expression here. Maybe you meant '==' instead of '='?\n"
     ]
    }
   ],
   "source": [
    "### 4.Only allowed spl char is _\n",
    "first+name=\"artificial\"\n",
    "first+name"
   ]
  },
  {
   "cell_type": "code",
   "execution_count": 19,
   "id": "ea99a624",
   "metadata": {},
   "outputs": [
    {
     "data": {
      "text/plain": [
       "'artificial'"
      ]
     },
     "execution_count": 19,
     "metadata": {},
     "output_type": "execute_result"
    }
   ],
   "source": [
    "first_name=\"artificial\"\n",
    "first_name"
   ]
  },
  {
   "cell_type": "markdown",
   "id": "438c5fc8",
   "metadata": {},
   "source": [
    "### Data Types"
   ]
  },
  {
   "cell_type": "code",
   "execution_count": 20,
   "id": "74741ae5",
   "metadata": {},
   "outputs": [
    {
     "data": {
      "text/plain": [
       "float"
      ]
     },
     "execution_count": 20,
     "metadata": {},
     "output_type": "execute_result"
    }
   ],
   "source": [
    "x=10.5\n",
    "type(x)"
   ]
  },
  {
   "cell_type": "code",
   "execution_count": 21,
   "id": "7ad593e2",
   "metadata": {},
   "outputs": [
    {
     "data": {
      "text/plain": [
       "int"
      ]
     },
     "execution_count": 21,
     "metadata": {},
     "output_type": "execute_result"
    }
   ],
   "source": [
    "y=10\n",
    "type(y)"
   ]
  },
  {
   "cell_type": "code",
   "execution_count": 22,
   "id": "63630284",
   "metadata": {},
   "outputs": [
    {
     "data": {
      "text/plain": [
       "bool"
      ]
     },
     "execution_count": 22,
     "metadata": {},
     "output_type": "execute_result"
    }
   ],
   "source": [
    "z=True\n",
    "type(z)"
   ]
  },
  {
   "cell_type": "code",
   "execution_count": 23,
   "id": "535bff57",
   "metadata": {},
   "outputs": [
    {
     "data": {
      "text/plain": [
       "str"
      ]
     },
     "execution_count": 23,
     "metadata": {},
     "output_type": "execute_result"
    }
   ],
   "source": [
    "z=\"True\"\n",
    "type(z)"
   ]
  },
  {
   "cell_type": "code",
   "execution_count": 24,
   "id": "d978e5e4",
   "metadata": {},
   "outputs": [
    {
     "ename": "NameError",
     "evalue": "name 'true' is not defined",
     "output_type": "error",
     "traceback": [
      "\u001b[1;31m---------------------------------------------------------------------------\u001b[0m",
      "\u001b[1;31mNameError\u001b[0m                                 Traceback (most recent call last)",
      "Cell \u001b[1;32mIn[24], line 1\u001b[0m\n\u001b[1;32m----> 1\u001b[0m z\u001b[38;5;241m=\u001b[39m\u001b[43mtrue\u001b[49m\n\u001b[0;32m      2\u001b[0m \u001b[38;5;28mtype\u001b[39m(z)\n",
      "\u001b[1;31mNameError\u001b[0m: name 'true' is not defined"
     ]
    }
   ],
   "source": [
    "z=true\n",
    "type(z)"
   ]
  },
  {
   "cell_type": "code",
   "execution_count": 25,
   "id": "d5563cbc",
   "metadata": {},
   "outputs": [
    {
     "data": {
      "text/plain": [
       "10"
      ]
     },
     "execution_count": 25,
     "metadata": {},
     "output_type": "execute_result"
    }
   ],
   "source": [
    "x=10\n",
    "type(x)\n",
    "x\n"
   ]
  },
  {
   "cell_type": "code",
   "execution_count": 26,
   "id": "ff5a82de",
   "metadata": {},
   "outputs": [
    {
     "data": {
      "text/plain": [
       "(10, int)"
      ]
     },
     "execution_count": 26,
     "metadata": {},
     "output_type": "execute_result"
    }
   ],
   "source": [
    "x,type(x)"
   ]
  },
  {
   "cell_type": "code",
   "execution_count": 27,
   "id": "547bb2a8",
   "metadata": {},
   "outputs": [
    {
     "data": {
      "text/plain": [
       "10"
      ]
     },
     "execution_count": 27,
     "metadata": {},
     "output_type": "execute_result"
    }
   ],
   "source": [
    "x,y=10,20\n",
    "y\n",
    "x"
   ]
  },
  {
   "cell_type": "code",
   "execution_count": 28,
   "id": "36e5aea9",
   "metadata": {},
   "outputs": [
    {
     "data": {
      "text/plain": [
       "(10, 20)"
      ]
     },
     "execution_count": 28,
     "metadata": {},
     "output_type": "execute_result"
    }
   ],
   "source": [
    "x,y"
   ]
  },
  {
   "cell_type": "code",
   "execution_count": 29,
   "id": "b0d929e0",
   "metadata": {},
   "outputs": [
    {
     "data": {
      "text/plain": [
       "(20, 10)"
      ]
     },
     "execution_count": 29,
     "metadata": {},
     "output_type": "execute_result"
    }
   ],
   "source": [
    "y,x"
   ]
  },
  {
   "cell_type": "markdown",
   "id": "47e7aad3",
   "metadata": {},
   "source": [
    "### Data type conversion\n",
    "##### 1) Implicit ->Python interpreter without Programmer's intervention\n",
    "##### 2) Explicit -> user-defined ->casting"
   ]
  },
  {
   "cell_type": "code",
   "execution_count": null,
   "id": "41798b39",
   "metadata": {},
   "outputs": [],
   "source": [
    "### Implicit conversion\n",
    "##### int and float\n",
    "x=1.5\n",
    "y=3\n",
    "z=x*y\n",
    "type(z)"
   ]
  },
  {
   "cell_type": "code",
   "execution_count": null,
   "id": "69470dc0",
   "metadata": {},
   "outputs": [],
   "source": [
    "x=\"data\"\n",
    "y=1.5\n",
    "z=x+y\n",
    "type(z)"
   ]
  },
  {
   "cell_type": "code",
   "execution_count": null,
   "id": "03bceed4",
   "metadata": {},
   "outputs": [],
   "source": [
    "x=20\n",
    "y=10\n",
    "z=x/y\n",
    "type(z)"
   ]
  },
  {
   "cell_type": "code",
   "execution_count": null,
   "id": "b970a56f",
   "metadata": {},
   "outputs": [],
   "source": [
    "z"
   ]
  },
  {
   "cell_type": "code",
   "execution_count": null,
   "id": "6cee7843",
   "metadata": {},
   "outputs": [],
   "source": [
    "### Explicit conversion\n",
    "x=\"2\"\n",
    "y=1.5\n",
    "z=x+y\n",
    "type(z)"
   ]
  },
  {
   "cell_type": "code",
   "execution_count": null,
   "id": "67dadbdd",
   "metadata": {},
   "outputs": [],
   "source": [
    "z=int(x)+y\n",
    "z"
   ]
  },
  {
   "cell_type": "markdown",
   "id": "65bd92cc",
   "metadata": {},
   "source": [
    "### Type casting\n",
    "#### int(),float(),str(),bool()"
   ]
  },
  {
   "cell_type": "code",
   "execution_count": null,
   "id": "024c727b",
   "metadata": {},
   "outputs": [],
   "source": [
    "int-> float ->possible\n",
    "int->bool->possible\n",
    "int->string->possible"
   ]
  },
  {
   "cell_type": "code",
   "execution_count": null,
   "id": "98f95282",
   "metadata": {},
   "outputs": [],
   "source": [
    "x=5\n",
    "str(x)"
   ]
  },
  {
   "cell_type": "code",
   "execution_count": null,
   "id": "406f26e1",
   "metadata": {},
   "outputs": [],
   "source": [
    "x=0\n",
    "bool(x)"
   ]
  },
  {
   "cell_type": "code",
   "execution_count": null,
   "id": "0b643f2c",
   "metadata": {},
   "outputs": [],
   "source": [
    "float->all possible\n",
    "\n",
    "\n",
    "str-> Not really working\n",
    "\n",
    "bool->All possible"
   ]
  },
  {
   "cell_type": "code",
   "execution_count": null,
   "id": "74baebf3",
   "metadata": {},
   "outputs": [],
   "source": [
    "x=True\n",
    "str(x)"
   ]
  },
  {
   "cell_type": "markdown",
   "id": "3a7bca05",
   "metadata": {},
   "source": [
    "### Functions"
   ]
  },
  {
   "cell_type": "code",
   "execution_count": null,
   "id": "b1f4d59a",
   "metadata": {},
   "outputs": [],
   "source": [
    "##### Block of reusable code that runs when called\n",
    "\n",
    "sum([1,2,3,4],5)\n",
    "###### sum- function name\n",
    "###### Return value of the function"
   ]
  },
  {
   "cell_type": "markdown",
   "id": "ad094598",
   "metadata": {},
   "source": [
    "### Types of functions"
   ]
  },
  {
   "cell_type": "markdown",
   "id": "d78a7375",
   "metadata": {},
   "source": [
    "##### Builtin function\n",
    "##### User-defined function\n",
    "##### Lambda functions"
   ]
  },
  {
   "cell_type": "code",
   "execution_count": null,
   "id": "9c53e12d",
   "metadata": {},
   "outputs": [],
   "source": [
    "print(\"hi\")"
   ]
  },
  {
   "cell_type": "code",
   "execution_count": null,
   "id": "549f76f1",
   "metadata": {},
   "outputs": [],
   "source": [
    "print(\"I love\"+\"Python\")"
   ]
  },
  {
   "cell_type": "code",
   "execution_count": null,
   "id": "6d4fb9d5",
   "metadata": {},
   "outputs": [],
   "source": [
    "print(\"My salary is \"+str(10000))"
   ]
  },
  {
   "cell_type": "code",
   "execution_count": null,
   "id": "63b99c57",
   "metadata": {},
   "outputs": [],
   "source": [
    "#### Arithmetic Operators\n",
    "x=2\n",
    "y=5\n",
    "z=x**y\n",
    "z"
   ]
  },
  {
   "cell_type": "markdown",
   "id": "bf7afac1",
   "metadata": {},
   "source": [
    "##### Modulus-> x%y -> x>y(Remainder)   \n",
    "##### x<y-> x\n",
    " "
   ]
  },
  {
   "cell_type": "markdown",
   "id": "568e9aa4",
   "metadata": {},
   "source": [
    "##### floor division x>y-> Quotient ,x<y->0"
   ]
  },
  {
   "cell_type": "code",
   "execution_count": null,
   "id": "456979f1",
   "metadata": {},
   "outputs": [],
   "source": [
    "x=\"Prema \"\n",
    "y=3\n",
    "z=x/y\n",
    "z"
   ]
  },
  {
   "cell_type": "code",
   "execution_count": null,
   "id": "3e469510",
   "metadata": {},
   "outputs": [],
   "source": [
    "x=\"Prema \"\n",
    "y=\"Latha\"\n",
    "z=x*y\n",
    "z"
   ]
  },
  {
   "cell_type": "markdown",
   "id": "e97bcb68",
   "metadata": {},
   "source": [
    "### Runtime Variable Assignment"
   ]
  },
  {
   "cell_type": "code",
   "execution_count": null,
   "id": "451773f0",
   "metadata": {},
   "outputs": [],
   "source": [
    "name=input(\"Enter  your name: \")\n",
    "print(\"Welcome\",name)"
   ]
  },
  {
   "cell_type": "code",
   "execution_count": null,
   "id": "5c10aa6d",
   "metadata": {},
   "outputs": [],
   "source": [
    "price=float(input(\"Enter Price: \"))\n",
    "quantity=float(input(\"Enter quantity: \"))\n"
   ]
  },
  {
   "cell_type": "code",
   "execution_count": null,
   "id": "6dc450ac",
   "metadata": {},
   "outputs": [],
   "source": [
    "total_cost=price*quantity"
   ]
  },
  {
   "cell_type": "code",
   "execution_count": null,
   "id": "a0957021",
   "metadata": {},
   "outputs": [],
   "source": [
    "total_cost"
   ]
  },
  {
   "cell_type": "code",
   "execution_count": null,
   "id": "12e97fe4",
   "metadata": {},
   "outputs": [],
   "source": [
    "price=int(input(\"Enter Price: \"))\n",
    "quantity=int(input(\"Enter quantity: \"))"
   ]
  },
  {
   "cell_type": "code",
   "execution_count": null,
   "id": "24705406",
   "metadata": {},
   "outputs": [],
   "source": [
    "x=10\n",
    "y=5\n",
    "z=x+y\n",
    "z"
   ]
  },
  {
   "cell_type": "code",
   "execution_count": null,
   "id": "4cbd2093",
   "metadata": {},
   "outputs": [],
   "source": [
    "x=10\n",
    "y=5\n",
    "z=x-y\n",
    "z"
   ]
  },
  {
   "cell_type": "code",
   "execution_count": null,
   "id": "3634de05",
   "metadata": {},
   "outputs": [],
   "source": [
    "x=10\n",
    "y=5\n",
    "z=x*y\n",
    "z"
   ]
  },
  {
   "cell_type": "code",
   "execution_count": null,
   "id": "24c969e0",
   "metadata": {},
   "outputs": [],
   "source": [
    "x=10\n",
    "y=5\n",
    "z=x/y\n",
    "z"
   ]
  },
  {
   "cell_type": "code",
   "execution_count": null,
   "id": "6b8e399d",
   "metadata": {},
   "outputs": [],
   "source": [
    "x=2\n",
    "y=5\n",
    "z=x**y\n",
    "z"
   ]
  },
  {
   "cell_type": "code",
   "execution_count": null,
   "id": "80da7809",
   "metadata": {},
   "outputs": [],
   "source": [
    "x=15\n",
    "y=5\n",
    "z=x%y\n",
    "z"
   ]
  },
  {
   "cell_type": "code",
   "execution_count": null,
   "id": "7232ce80",
   "metadata": {},
   "outputs": [],
   "source": [
    "x=9\n",
    "y=10\n",
    "z=x%y\n",
    "z"
   ]
  },
  {
   "cell_type": "code",
   "execution_count": null,
   "id": "9377bff1",
   "metadata": {},
   "outputs": [],
   "source": [
    "x=1\n",
    "\n",
    "y=10\n",
    "\n",
    "x%y"
   ]
  },
  {
   "cell_type": "code",
   "execution_count": null,
   "id": "04081592",
   "metadata": {},
   "outputs": [],
   "source": [
    "x=160\n",
    "y=20\n",
    "x//y"
   ]
  },
  {
   "cell_type": "code",
   "execution_count": null,
   "id": "247329bb",
   "metadata": {},
   "outputs": [],
   "source": [
    "x%y-> x >y-> Remainder  x<y->x\n",
    "x//y ->x<y-> 0 x>y->quo"
   ]
  },
  {
   "cell_type": "code",
   "execution_count": null,
   "id": "e9d9e4cb",
   "metadata": {},
   "outputs": [],
   "source": []
  },
  {
   "cell_type": "markdown",
   "id": "b6a4480e",
   "metadata": {},
   "source": [
    "### Relational Operators\n"
   ]
  },
  {
   "cell_type": "code",
   "execution_count": null,
   "id": "d24493ae",
   "metadata": {},
   "outputs": [],
   "source": [
    "x=10\n",
    "y=2\n",
    "x!=y"
   ]
  },
  {
   "cell_type": "markdown",
   "id": "9ddaf551",
   "metadata": {},
   "source": [
    "### Logical Operators"
   ]
  },
  {
   "cell_type": "code",
   "execution_count": null,
   "id": "ef72422a",
   "metadata": {},
   "outputs": [],
   "source": [
    "x=True\n",
    "y=False\n",
    "z=True"
   ]
  },
  {
   "cell_type": "code",
   "execution_count": null,
   "id": "9ec0b090",
   "metadata": {},
   "outputs": [],
   "source": [
    "x and y"
   ]
  },
  {
   "cell_type": "code",
   "execution_count": null,
   "id": "156f8761",
   "metadata": {},
   "outputs": [],
   "source": [
    "x and z"
   ]
  },
  {
   "cell_type": "code",
   "execution_count": null,
   "id": "dd801eef",
   "metadata": {},
   "outputs": [],
   "source": [
    "y and z"
   ]
  },
  {
   "cell_type": "code",
   "execution_count": null,
   "id": "76b5d6cd",
   "metadata": {},
   "outputs": [],
   "source": [
    "x or y"
   ]
  },
  {
   "cell_type": "code",
   "execution_count": null,
   "id": "11db0dcc",
   "metadata": {},
   "outputs": [],
   "source": [
    "y or z\n"
   ]
  },
  {
   "cell_type": "code",
   "execution_count": null,
   "id": "e575262d",
   "metadata": {},
   "outputs": [],
   "source": [
    "x or z"
   ]
  },
  {
   "cell_type": "code",
   "execution_count": null,
   "id": "5f66eaac",
   "metadata": {},
   "outputs": [],
   "source": [
    "not(x)"
   ]
  },
  {
   "cell_type": "code",
   "execution_count": null,
   "id": "72b4a67a",
   "metadata": {},
   "outputs": [],
   "source": [
    "not(y)"
   ]
  },
  {
   "cell_type": "markdown",
   "id": "a5136a97",
   "metadata": {},
   "source": [
    "#### Membership operator"
   ]
  },
  {
   "cell_type": "code",
   "execution_count": null,
   "id": "25cc9029",
   "metadata": {},
   "outputs": [],
   "source": [
    "vowels=\"aeiou\"\n",
    "print(\"a\" in vowels)"
   ]
  },
  {
   "cell_type": "code",
   "execution_count": null,
   "id": "9a9c7a84",
   "metadata": {},
   "outputs": [],
   "source": [
    "vowels=\"aeiou\"\n",
    "print(\"L\" in vowels)"
   ]
  },
  {
   "cell_type": "code",
   "execution_count": null,
   "id": "ced1b7de",
   "metadata": {},
   "outputs": [],
   "source": [
    "vowels=\"aeiou\"\n",
    "print(\"a\" not in vowels)"
   ]
  },
  {
   "cell_type": "code",
   "execution_count": null,
   "id": "f87e9641",
   "metadata": {},
   "outputs": [],
   "source": [
    "vowels=\"aeiou\"\n",
    "print(\"l\" not in vowels)"
   ]
  },
  {
   "cell_type": "code",
   "execution_count": null,
   "id": "de2992ef",
   "metadata": {},
   "outputs": [],
   "source": [
    "#### Assignment Operators\n",
    "a=a+b   -> a+=b"
   ]
  },
  {
   "cell_type": "code",
   "execution_count": null,
   "id": "327095b3",
   "metadata": {},
   "outputs": [],
   "source": [
    "a=1\n",
    "a%=2\n",
    "a"
   ]
  },
  {
   "cell_type": "code",
   "execution_count": null,
   "id": "32b1be6b",
   "metadata": {},
   "outputs": [],
   "source": [
    "x=5\n",
    "x//=2\n",
    "x"
   ]
  },
  {
   "cell_type": "code",
   "execution_count": null,
   "id": "b3279b7b",
   "metadata": {},
   "outputs": [],
   "source": []
  },
  {
   "cell_type": "code",
   "execution_count": null,
   "id": "c435344b",
   "metadata": {},
   "outputs": [],
   "source": []
  },
  {
   "cell_type": "code",
   "execution_count": null,
   "id": "a70df545",
   "metadata": {},
   "outputs": [],
   "source": []
  },
  {
   "cell_type": "code",
   "execution_count": null,
   "id": "f1548b20",
   "metadata": {},
   "outputs": [],
   "source": []
  },
  {
   "cell_type": "code",
   "execution_count": null,
   "id": "d19a1db5",
   "metadata": {},
   "outputs": [],
   "source": []
  },
  {
   "cell_type": "code",
   "execution_count": null,
   "id": "5753635a",
   "metadata": {},
   "outputs": [],
   "source": [
    "Go to Github upload file"
   ]
  },
  {
   "cell_type": "code",
   "execution_count": null,
   "id": "187d8a56",
   "metadata": {},
   "outputs": [],
   "source": []
  },
  {
   "cell_type": "code",
   "execution_count": null,
   "id": "cd159f3e",
   "metadata": {},
   "outputs": [],
   "source": []
  },
  {
   "cell_type": "code",
   "execution_count": null,
   "id": "84c3566c",
   "metadata": {},
   "outputs": [],
   "source": []
  },
  {
   "cell_type": "code",
   "execution_count": null,
   "id": "e939b27d",
   "metadata": {},
   "outputs": [],
   "source": [
    "\n",
    "\n",
    "\n",
    "\n",
    "\n"
   ]
  },
  {
   "cell_type": "code",
   "execution_count": null,
   "id": "107a416c",
   "metadata": {},
   "outputs": [],
   "source": []
  },
  {
   "cell_type": "code",
   "execution_count": null,
   "id": "0dce3da0",
   "metadata": {},
   "outputs": [],
   "source": [
    "  # Output: True\n"
   ]
  },
  {
   "cell_type": "code",
   "execution_count": null,
   "id": "fe5aabf2",
   "metadata": {},
   "outputs": [],
   "source": [
    "is_student = True\n",
    "is_employed = False\n",
    "can_vote = is_student or is_employed\n",
    "print(can_vote)  # Output: True\n"
   ]
  },
  {
   "cell_type": "code",
   "execution_count": null,
   "id": "220f206a",
   "metadata": {},
   "outputs": [],
   "source": []
  },
  {
   "cell_type": "code",
   "execution_count": null,
   "id": "1d2d6650",
   "metadata": {},
   "outputs": [],
   "source": [
    " # Output: True\n"
   ]
  },
  {
   "cell_type": "code",
   "execution_count": null,
   "id": "cb8fbfc2",
   "metadata": {},
   "outputs": [],
   "source": []
  },
  {
   "cell_type": "code",
   "execution_count": null,
   "id": "cc3e2437",
   "metadata": {},
   "outputs": [],
   "source": [
    "temperature = 25\n",
    "is_summer = True\n",
    "outdoor_activity = (temperature > 20) and (is_summer or (temperature < 30))\n",
    "print(outdoor_activity)  # Output: True\n"
   ]
  },
  {
   "cell_type": "code",
   "execution_count": null,
   "id": "41fc2248",
   "metadata": {},
   "outputs": [],
   "source": []
  },
  {
   "cell_type": "code",
   "execution_count": null,
   "id": "f4ccb1d6",
   "metadata": {},
   "outputs": [],
   "source": []
  },
  {
   "cell_type": "code",
   "execution_count": null,
   "id": "87f0f924",
   "metadata": {},
   "outputs": [],
   "source": []
  },
  {
   "cell_type": "code",
   "execution_count": null,
   "id": "0e11118a",
   "metadata": {},
   "outputs": [],
   "source": []
  },
  {
   "cell_type": "code",
   "execution_count": null,
   "id": "a21b8fa6",
   "metadata": {},
   "outputs": [],
   "source": []
  },
  {
   "cell_type": "code",
   "execution_count": null,
   "id": "b0cfeb50",
   "metadata": {},
   "outputs": [],
   "source": []
  },
  {
   "cell_type": "code",
   "execution_count": null,
   "id": "b6bf5396",
   "metadata": {},
   "outputs": [],
   "source": []
  },
  {
   "cell_type": "code",
   "execution_count": null,
   "id": "a04db879",
   "metadata": {},
   "outputs": [],
   "source": []
  },
  {
   "cell_type": "code",
   "execution_count": null,
   "id": "be253035",
   "metadata": {},
   "outputs": [],
   "source": [
    "import numpy as np\n",
    "import pandas as pd"
   ]
  },
  {
   "cell_type": "code",
   "execution_count": null,
   "id": "1b1a6e99",
   "metadata": {},
   "outputs": [],
   "source": [
    "df=pd.read_csv(\"CardioGoodFitness-1.csv\")"
   ]
  },
  {
   "cell_type": "code",
   "execution_count": null,
   "id": "a1d6a1af",
   "metadata": {},
   "outputs": [],
   "source": [
    "df.head()"
   ]
  },
  {
   "cell_type": "code",
   "execution_count": null,
   "id": "49778604",
   "metadata": {},
   "outputs": [],
   "source": [
    "df.tail()"
   ]
  },
  {
   "cell_type": "code",
   "execution_count": null,
   "id": "e2173134",
   "metadata": {},
   "outputs": [],
   "source": [
    "df.sample(5)"
   ]
  },
  {
   "cell_type": "code",
   "execution_count": null,
   "id": "ab6244f5",
   "metadata": {},
   "outputs": [],
   "source": [
    "df.dtypes"
   ]
  },
  {
   "cell_type": "code",
   "execution_count": null,
   "id": "084de2ac",
   "metadata": {},
   "outputs": [],
   "source": [
    "df.info()"
   ]
  },
  {
   "cell_type": "code",
   "execution_count": null,
   "id": "516914ea",
   "metadata": {},
   "outputs": [],
   "source": [
    "df.describe()"
   ]
  },
  {
   "cell_type": "code",
   "execution_count": null,
   "id": "c877620c",
   "metadata": {},
   "outputs": [],
   "source": [
    "df.describe(include=\"all\")"
   ]
  },
  {
   "cell_type": "code",
   "execution_count": null,
   "id": "b7eec667",
   "metadata": {},
   "outputs": [],
   "source": [
    "df.isnull().sum()"
   ]
  },
  {
   "cell_type": "code",
   "execution_count": 1,
   "id": "7484a333",
   "metadata": {},
   "outputs": [
    {
     "ename": "SyntaxError",
     "evalue": "unmatched ')' (1230414266.py, line 1)",
     "output_type": "error",
     "traceback": [
      "\u001b[1;36m  Cell \u001b[1;32mIn[1], line 1\u001b[1;36m\u001b[0m\n\u001b[1;33m    A) 2ndPlace\u001b[0m\n\u001b[1;37m     ^\u001b[0m\n\u001b[1;31mSyntaxError\u001b[0m\u001b[1;31m:\u001b[0m unmatched ')'\n"
     ]
    }
   ],
   "source": [
    "A) 2ndPlace\n",
    "B) totalAmount\n",
    "C) user@name\n",
    "D) while\n"
   ]
  },
  {
   "cell_type": "code",
   "execution_count": null,
   "id": "54959e9b",
   "metadata": {},
   "outputs": [],
   "source": [
    "first_name = \"John\"\n",
    "last_name = \"Doe\"\n",
    "full_name = first_name + last_name\n",
    "A) \"JohnDoe\"\n",
    "B) \"John Doe\"\n",
    "C) JohnDoe\n",
    "D) TypeError\n"
   ]
  },
  {
   "cell_type": "code",
   "execution_count": null,
   "id": "4f1c18c0",
   "metadata": {},
   "outputs": [],
   "source": [
    "A) 2 + \"hello\"\n",
    "B) 7.5 - 3\n",
    "C) True * False\n",
    "D) \"apple\" / 2\n"
   ]
  }
 ],
 "metadata": {
  "kernelspec": {
   "display_name": "Python 3 (ipykernel)",
   "language": "python",
   "name": "python3"
  },
  "language_info": {
   "codemirror_mode": {
    "name": "ipython",
    "version": 3
   },
   "file_extension": ".py",
   "mimetype": "text/x-python",
   "name": "python",
   "nbconvert_exporter": "python",
   "pygments_lexer": "ipython3",
   "version": "3.11.7"
  }
 },
 "nbformat": 4,
 "nbformat_minor": 5
}
